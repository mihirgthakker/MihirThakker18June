{
 "cells": [
  {
   "cell_type": "code",
   "execution_count": 3,
   "id": "902823fd",
   "metadata": {},
   "outputs": [],
   "source": [
    "s=\"ineuron\""
   ]
  },
  {
   "cell_type": "code",
   "execution_count": 7,
   "id": "f79f5602",
   "metadata": {},
   "outputs": [
    {
     "data": {
      "text/plain": [
       "str"
      ]
     },
     "execution_count": 7,
     "metadata": {},
     "output_type": "execute_result"
    }
   ],
   "source": [
    "type(s)"
   ]
  },
  {
   "cell_type": "code",
   "execution_count": 9,
   "id": "1f44467b",
   "metadata": {},
   "outputs": [
    {
     "data": {
      "text/plain": [
       "'i'"
      ]
     },
     "execution_count": 9,
     "metadata": {},
     "output_type": "execute_result"
    }
   ],
   "source": [
    "s[0]"
   ]
  },
  {
   "cell_type": "code",
   "execution_count": 11,
   "id": "54098889",
   "metadata": {},
   "outputs": [
    {
     "data": {
      "text/plain": [
       "'o'"
      ]
     },
     "execution_count": 11,
     "metadata": {},
     "output_type": "execute_result"
    }
   ],
   "source": [
    "s[5]"
   ]
  },
  {
   "cell_type": "code",
   "execution_count": 13,
   "id": "8829d00f",
   "metadata": {},
   "outputs": [
    {
     "ename": "SyntaxError",
     "evalue": "invalid syntax (2459120054.py, line 1)",
     "output_type": "error",
     "traceback": [
      "\u001b[0;36m  File \u001b[0;32m\"/var/folders/zc/ywq4d_0x2fxcmqfh3607w9mw0000gn/T/ipykernel_7219/2459120054.py\"\u001b[0;36m, line \u001b[0;32m1\u001b[0m\n\u001b[0;31m    s.replace [4] with \"j\"\u001b[0m\n\u001b[0m                  ^\u001b[0m\n\u001b[0;31mSyntaxError\u001b[0m\u001b[0;31m:\u001b[0m invalid syntax\n"
     ]
    }
   ],
   "source": [
    "s.replace [4] with \"j\""
   ]
  },
  {
   "cell_type": "code",
   "execution_count": 15,
   "id": "ae297fc4",
   "metadata": {},
   "outputs": [
    {
     "data": {
      "text/plain": [
       "'n'"
      ]
     },
     "execution_count": 15,
     "metadata": {},
     "output_type": "execute_result"
    }
   ],
   "source": [
    "s[-1]"
   ]
  },
  {
   "cell_type": "code",
   "execution_count": 17,
   "id": "1e5664f1",
   "metadata": {},
   "outputs": [],
   "source": [
    "s1=\"mihir\""
   ]
  },
  {
   "cell_type": "code",
   "execution_count": 19,
   "id": "3892ba89",
   "metadata": {},
   "outputs": [
    {
     "data": {
      "text/plain": [
       "str"
      ]
     },
     "execution_count": 19,
     "metadata": {},
     "output_type": "execute_result"
    }
   ],
   "source": [
    "type(s1)"
   ]
  },
  {
   "cell_type": "code",
   "execution_count": 21,
   "id": "148a58ab",
   "metadata": {},
   "outputs": [
    {
     "data": {
      "text/plain": [
       "'m'"
      ]
     },
     "execution_count": 21,
     "metadata": {},
     "output_type": "execute_result"
    }
   ],
   "source": [
    "s1[0]"
   ]
  },
  {
   "cell_type": "code",
   "execution_count": 23,
   "id": "2dbdc9f6",
   "metadata": {},
   "outputs": [
    {
     "data": {
      "text/plain": [
       "'i'"
      ]
     },
     "execution_count": 23,
     "metadata": {},
     "output_type": "execute_result"
    }
   ],
   "source": [
    "s1[-2]"
   ]
  },
  {
   "cell_type": "code",
   "execution_count": 26,
   "id": "d9320d5d",
   "metadata": {},
   "outputs": [],
   "source": [
    "s2=\"this is my first programming class's\""
   ]
  },
  {
   "cell_type": "code",
   "execution_count": 29,
   "id": "e0670c46",
   "metadata": {},
   "outputs": [
    {
     "data": {
      "text/plain": [
       "\"this is my first programming class's\""
      ]
     },
     "execution_count": 29,
     "metadata": {},
     "output_type": "execute_result"
    }
   ],
   "source": [
    "s2"
   ]
  },
  {
   "cell_type": "code",
   "execution_count": 31,
   "id": "d754cce5",
   "metadata": {},
   "outputs": [
    {
     "data": {
      "text/plain": [
       "'m'"
      ]
     },
     "execution_count": 31,
     "metadata": {},
     "output_type": "execute_result"
    }
   ],
   "source": [
    "s2[8]"
   ]
  },
  {
   "cell_type": "code",
   "execution_count": 33,
   "id": "7e3dc26e",
   "metadata": {},
   "outputs": [
    {
     "data": {
      "text/plain": [
       "\"'\""
      ]
     },
     "execution_count": 33,
     "metadata": {},
     "output_type": "execute_result"
    }
   ],
   "source": [
    "s2[-2]"
   ]
  },
  {
   "cell_type": "markdown",
   "id": "69865891",
   "metadata": {},
   "source": [
    "## s2[2-5]"
   ]
  },
  {
   "cell_type": "code",
   "execution_count": 36,
   "id": "3cefbc2a",
   "metadata": {},
   "outputs": [
    {
     "data": {
      "text/plain": [
       "'his '"
      ]
     },
     "execution_count": 36,
     "metadata": {},
     "output_type": "execute_result"
    }
   ],
   "source": [
    "s2[1:5]"
   ]
  },
  {
   "cell_type": "code",
   "execution_count": 38,
   "id": "e151e0fa",
   "metadata": {},
   "outputs": [
    {
     "data": {
      "text/plain": [
       "'c'"
      ]
     },
     "execution_count": 38,
     "metadata": {},
     "output_type": "execute_result"
    }
   ],
   "source": [
    "s2[0-7]"
   ]
  },
  {
   "cell_type": "code",
   "execution_count": 40,
   "id": "30c663c4",
   "metadata": {},
   "outputs": [
    {
     "data": {
      "text/plain": [
       "'this is'"
      ]
     },
     "execution_count": 40,
     "metadata": {},
     "output_type": "execute_result"
    }
   ],
   "source": [
    "s2[0:7]"
   ]
  },
  {
   "cell_type": "code",
   "execution_count": 42,
   "id": "f59f3134",
   "metadata": {},
   "outputs": [
    {
     "data": {
      "text/plain": [
       "\"is my first programming class'\""
      ]
     },
     "execution_count": 42,
     "metadata": {},
     "output_type": "execute_result"
    }
   ],
   "source": [
    "s2[5:35]"
   ]
  },
  {
   "cell_type": "code",
   "execution_count": 47,
   "id": "1a582e63",
   "metadata": {},
   "outputs": [
    {
     "data": {
      "text/plain": [
       "\"this is my first programming class's\""
      ]
     },
     "execution_count": 47,
     "metadata": {},
     "output_type": "execute_result"
    }
   ],
   "source": [
    "s2[0:55]"
   ]
  },
  {
   "cell_type": "code",
   "execution_count": 50,
   "id": "e1ad4a0c",
   "metadata": {},
   "outputs": [
    {
     "data": {
      "text/plain": [
       "\"sm is rgamn ls'\""
      ]
     },
     "execution_count": 50,
     "metadata": {},
     "output_type": "execute_result"
    }
   ],
   "source": [
    "s2[6:36:2]"
   ]
  },
  {
   "cell_type": "code",
   "execution_count": 52,
   "id": "33c495c5",
   "metadata": {},
   "outputs": [
    {
     "data": {
      "text/plain": [
       "'sf rn'"
      ]
     },
     "execution_count": 52,
     "metadata": {},
     "output_type": "execute_result"
    }
   ],
   "source": [
    "s2[6:30:5]"
   ]
  },
  {
   "cell_type": "code",
   "execution_count": 54,
   "id": "5fe1071f",
   "metadata": {},
   "outputs": [
    {
     "data": {
      "text/plain": [
       "''"
      ]
     },
     "execution_count": 54,
     "metadata": {},
     "output_type": "execute_result"
    }
   ],
   "source": [
    "s[0:8:-1]"
   ]
  },
  {
   "cell_type": "code",
   "execution_count": 56,
   "id": "a6f7da8b",
   "metadata": {},
   "outputs": [
    {
     "data": {
      "text/plain": [
       "''"
      ]
     },
     "execution_count": 56,
     "metadata": {},
     "output_type": "execute_result"
    }
   ],
   "source": [
    "s[-1:0:8]"
   ]
  },
  {
   "cell_type": "code",
   "execution_count": 59,
   "id": "9cd65fc7",
   "metadata": {},
   "outputs": [
    {
     "data": {
      "text/plain": [
       "'i'"
      ]
     },
     "execution_count": 59,
     "metadata": {},
     "output_type": "execute_result"
    }
   ],
   "source": [
    "s[-0:-8:-1]"
   ]
  },
  {
   "cell_type": "code",
   "execution_count": 63,
   "id": "bb9bd079",
   "metadata": {},
   "outputs": [
    {
     "data": {
      "text/plain": [
       "'norueni'"
      ]
     },
     "execution_count": 63,
     "metadata": {},
     "output_type": "execute_result"
    }
   ],
   "source": [
    "s[-1:-8:-1]"
   ]
  },
  {
   "cell_type": "code",
   "execution_count": 68,
   "id": "fd9fd0dc",
   "metadata": {},
   "outputs": [
    {
     "data": {
      "text/plain": [
       "'noruen'"
      ]
     },
     "execution_count": 68,
     "metadata": {},
     "output_type": "execute_result"
    }
   ],
   "source": [
    "s[9:0:-1]"
   ]
  },
  {
   "cell_type": "code",
   "execution_count": 69,
   "id": "00767e84",
   "metadata": {},
   "outputs": [
    {
     "data": {
      "text/plain": [
       "\"s'ssalc gnimmargorp tsrif ym si siht\""
      ]
     },
     "execution_count": 69,
     "metadata": {},
     "output_type": "execute_result"
    }
   ],
   "source": [
    "s2[-1:-40:-1]"
   ]
  },
  {
   "cell_type": "markdown",
   "id": "014e23db",
   "metadata": {},
   "source": [
    "### s2[-3]"
   ]
  },
  {
   "cell_type": "markdown",
   "id": "5763ea65",
   "metadata": {},
   "source": [
    "## "
   ]
  },
  {
   "cell_type": "code",
   "execution_count": 71,
   "id": "f2ae099d",
   "metadata": {},
   "outputs": [
    {
     "data": {
      "text/plain": [
       "'this is my first programming clas'"
      ]
     },
     "execution_count": 71,
     "metadata": {},
     "output_type": "execute_result"
    }
   ],
   "source": [
    "s2[:-3]"
   ]
  },
  {
   "cell_type": "code",
   "execution_count": 72,
   "id": "397af701",
   "metadata": {},
   "outputs": [
    {
     "data": {
      "text/plain": [
       "\"'s\""
      ]
     },
     "execution_count": 72,
     "metadata": {},
     "output_type": "execute_result"
    }
   ],
   "source": [
    "s2[-2:]"
   ]
  },
  {
   "cell_type": "code",
   "execution_count": 132,
   "id": "ba5f5088",
   "metadata": {},
   "outputs": [],
   "source": [
    "s3=\"Mihir Thakker\""
   ]
  },
  {
   "cell_type": "markdown",
   "id": "8a932550",
   "metadata": {},
   "source": [
    "### "
   ]
  },
  {
   "cell_type": "code",
   "execution_count": 75,
   "id": "8660bed7",
   "metadata": {},
   "outputs": [
    {
     "data": {
      "text/plain": [
       "'MihirThakker'"
      ]
     },
     "execution_count": 75,
     "metadata": {},
     "output_type": "execute_result"
    }
   ],
   "source": [
    "s3"
   ]
  },
  {
   "cell_type": "markdown",
   "id": "9cc39d64",
   "metadata": {},
   "source": [
    "### "
   ]
  },
  {
   "cell_type": "code",
   "execution_count": null,
   "id": "e6fd674d",
   "metadata": {},
   "outputs": [],
   "source": []
  },
  {
   "cell_type": "code",
   "execution_count": null,
   "id": "20779598",
   "metadata": {},
   "outputs": [],
   "source": []
  },
  {
   "cell_type": "code",
   "execution_count": null,
   "id": "b71cbe46",
   "metadata": {},
   "outputs": [],
   "source": []
  },
  {
   "cell_type": "code",
   "execution_count": 76,
   "id": "d750d384",
   "metadata": {},
   "outputs": [
    {
     "data": {
      "text/plain": [
       "'er'"
      ]
     },
     "execution_count": 76,
     "metadata": {},
     "output_type": "execute_result"
    }
   ],
   "source": [
    "s3[-2:]"
   ]
  },
  {
   "cell_type": "code",
   "execution_count": 77,
   "id": "5c0e6b5d",
   "metadata": {},
   "outputs": [
    {
     "data": {
      "text/plain": [
       "'ineuron'"
      ]
     },
     "execution_count": 77,
     "metadata": {},
     "output_type": "execute_result"
    }
   ],
   "source": [
    "s[::1]"
   ]
  },
  {
   "cell_type": "code",
   "execution_count": 78,
   "id": "8162d7c9",
   "metadata": {},
   "outputs": [
    {
     "data": {
      "text/plain": [
       "'MihirThakker'"
      ]
     },
     "execution_count": 78,
     "metadata": {},
     "output_type": "execute_result"
    }
   ],
   "source": [
    "s3[::1]"
   ]
  },
  {
   "cell_type": "markdown",
   "id": "4578a564",
   "metadata": {},
   "source": [
    "s3[::-1] "
   ]
  },
  {
   "cell_type": "code",
   "execution_count": 79,
   "id": "696a235f",
   "metadata": {},
   "outputs": [
    {
     "data": {
      "text/plain": [
       "'rekkahTrihiM'"
      ]
     },
     "execution_count": 79,
     "metadata": {},
     "output_type": "execute_result"
    }
   ],
   "source": [
    "s3[::-1]"
   ]
  },
  {
   "cell_type": "code",
   "execution_count": 80,
   "id": "e3d507d5",
   "metadata": {},
   "outputs": [
    {
     "data": {
      "text/plain": [
       "\"s'ssalc gnimmargorp tsrif ym si siht\""
      ]
     },
     "execution_count": 80,
     "metadata": {},
     "output_type": "execute_result"
    }
   ],
   "source": [
    "s2[::-1]"
   ]
  },
  {
   "cell_type": "code",
   "execution_count": 81,
   "id": "50baf358",
   "metadata": {},
   "outputs": [
    {
     "data": {
      "text/plain": [
       "'rekkahTrihiM'"
      ]
     },
     "execution_count": 81,
     "metadata": {},
     "output_type": "execute_result"
    }
   ],
   "source": [
    "s3[-1:-20:-1]"
   ]
  },
  {
   "cell_type": "code",
   "execution_count": 82,
   "id": "8c3cf905",
   "metadata": {},
   "outputs": [
    {
     "data": {
      "text/plain": [
       "''"
      ]
     },
     "execution_count": 82,
     "metadata": {},
     "output_type": "execute_result"
    }
   ],
   "source": [
    "s3[-2:-7:2]"
   ]
  },
  {
   "cell_type": "code",
   "execution_count": 83,
   "id": "6eb425d9",
   "metadata": {},
   "outputs": [
    {
     "ename": "TypeError",
     "evalue": "can only concatenate str (not \"int\") to str",
     "output_type": "error",
     "traceback": [
      "\u001b[0;31m---------------------------------------------------------------------------\u001b[0m",
      "\u001b[0;31mTypeError\u001b[0m                                 Traceback (most recent call last)",
      "\u001b[0;32m/var/folders/zc/ywq4d_0x2fxcmqfh3607w9mw0000gn/T/ipykernel_7219/3519921828.py\u001b[0m in \u001b[0;36m<module>\u001b[0;34m\u001b[0m\n\u001b[0;32m----> 1\u001b[0;31m \u001b[0ms\u001b[0m\u001b[0;34m+\u001b[0m\u001b[0;36m1\u001b[0m\u001b[0;34m\u001b[0m\u001b[0;34m\u001b[0m\u001b[0m\n\u001b[0m",
      "\u001b[0;31mTypeError\u001b[0m: can only concatenate str (not \"int\") to str"
     ]
    }
   ],
   "source": [
    "s+1"
   ]
  },
  {
   "cell_type": "code",
   "execution_count": 87,
   "id": "f0b91bec",
   "metadata": {},
   "outputs": [],
   "source": [
    "s=\"[s]+[1]\""
   ]
  },
  {
   "cell_type": "code",
   "execution_count": 88,
   "id": "59e0f5d5",
   "metadata": {},
   "outputs": [
    {
     "data": {
      "text/plain": [
       "'[s]+[1]'"
      ]
     },
     "execution_count": 88,
     "metadata": {},
     "output_type": "execute_result"
    }
   ],
   "source": [
    "s"
   ]
  },
  {
   "cell_type": "markdown",
   "id": "1fc41ab1",
   "metadata": {},
   "source": [
    "### "
   ]
  },
  {
   "cell_type": "code",
   "execution_count": 89,
   "id": "59d0d7fa",
   "metadata": {},
   "outputs": [
    {
     "data": {
      "text/plain": [
       "'MihirThakker'"
      ]
     },
     "execution_count": 89,
     "metadata": {},
     "output_type": "execute_result"
    }
   ],
   "source": [
    "s3"
   ]
  },
  {
   "cell_type": "code",
   "execution_count": 90,
   "id": "43459120",
   "metadata": {},
   "outputs": [
    {
     "data": {
      "text/plain": [
       "'MihirThakker1'"
      ]
     },
     "execution_count": 90,
     "metadata": {},
     "output_type": "execute_result"
    }
   ],
   "source": [
    "s3+\"1\""
   ]
  },
  {
   "cell_type": "code",
   "execution_count": 91,
   "id": "2bde0c09",
   "metadata": {},
   "outputs": [
    {
     "data": {
      "text/plain": [
       "'MihirThakker1'"
      ]
     },
     "execution_count": 91,
     "metadata": {},
     "output_type": "execute_result"
    }
   ],
   "source": [
    "s3+str(1)"
   ]
  },
  {
   "cell_type": "code",
   "execution_count": 92,
   "id": "98ca2848",
   "metadata": {},
   "outputs": [
    {
     "data": {
      "text/plain": [
       "'mihir123'"
      ]
     },
     "execution_count": 92,
     "metadata": {},
     "output_type": "execute_result"
    }
   ],
   "source": [
    "\"mihir\"+\"123\""
   ]
  },
  {
   "cell_type": "code",
   "execution_count": 93,
   "id": "9ee4dc51",
   "metadata": {},
   "outputs": [
    {
     "data": {
      "text/plain": [
       "12"
      ]
     },
     "execution_count": 93,
     "metadata": {},
     "output_type": "execute_result"
    }
   ],
   "source": [
    "len(s3)"
   ]
  },
  {
   "cell_type": "code",
   "execution_count": 94,
   "id": "02f67bc2",
   "metadata": {},
   "outputs": [
    {
     "ename": "TypeError",
     "evalue": "can't multiply sequence by non-int of type 'str'",
     "output_type": "error",
     "traceback": [
      "\u001b[0;31m---------------------------------------------------------------------------\u001b[0m",
      "\u001b[0;31mTypeError\u001b[0m                                 Traceback (most recent call last)",
      "\u001b[0;32m/var/folders/zc/ywq4d_0x2fxcmqfh3607w9mw0000gn/T/ipykernel_7219/2198348044.py\u001b[0m in \u001b[0;36m<module>\u001b[0;34m\u001b[0m\n\u001b[0;32m----> 1\u001b[0;31m \u001b[0ms\u001b[0m\u001b[0;34m*\u001b[0m\u001b[0;34m'2'\u001b[0m\u001b[0;34m\u001b[0m\u001b[0;34m\u001b[0m\u001b[0m\n\u001b[0m",
      "\u001b[0;31mTypeError\u001b[0m: can't multiply sequence by non-int of type 'str'"
     ]
    }
   ],
   "source": [
    "s*'2'"
   ]
  },
  {
   "cell_type": "code",
   "execution_count": 95,
   "id": "14932bd5",
   "metadata": {},
   "outputs": [
    {
     "data": {
      "text/plain": [
       "'MihirThakkerMihirThakker'"
      ]
     },
     "execution_count": 95,
     "metadata": {},
     "output_type": "execute_result"
    }
   ],
   "source": [
    "s3*2"
   ]
  },
  {
   "cell_type": "code",
   "execution_count": 96,
   "id": "b6b6baa2",
   "metadata": {},
   "outputs": [
    {
     "ename": "TypeError",
     "evalue": "unsupported operand type(s) for /: 'str' and 'int'",
     "output_type": "error",
     "traceback": [
      "\u001b[0;31m---------------------------------------------------------------------------\u001b[0m",
      "\u001b[0;31mTypeError\u001b[0m                                 Traceback (most recent call last)",
      "\u001b[0;32m/var/folders/zc/ywq4d_0x2fxcmqfh3607w9mw0000gn/T/ipykernel_7219/2935220501.py\u001b[0m in \u001b[0;36m<module>\u001b[0;34m\u001b[0m\n\u001b[0;32m----> 1\u001b[0;31m \u001b[0ms3\u001b[0m\u001b[0;34m/\u001b[0m\u001b[0;36m3\u001b[0m\u001b[0;34m\u001b[0m\u001b[0;34m\u001b[0m\u001b[0m\n\u001b[0m",
      "\u001b[0;31mTypeError\u001b[0m: unsupported operand type(s) for /: 'str' and 'int'"
     ]
    }
   ],
   "source": [
    "s3/3"
   ]
  },
  {
   "cell_type": "code",
   "execution_count": 97,
   "id": "f6d41a69",
   "metadata": {},
   "outputs": [
    {
     "ename": "TypeError",
     "evalue": "unsupported operand type(s) for /: 'str' and 'str'",
     "output_type": "error",
     "traceback": [
      "\u001b[0;31m---------------------------------------------------------------------------\u001b[0m",
      "\u001b[0;31mTypeError\u001b[0m                                 Traceback (most recent call last)",
      "\u001b[0;32m/var/folders/zc/ywq4d_0x2fxcmqfh3607w9mw0000gn/T/ipykernel_7219/3902130432.py\u001b[0m in \u001b[0;36m<module>\u001b[0;34m\u001b[0m\n\u001b[0;32m----> 1\u001b[0;31m \u001b[0ms3\u001b[0m\u001b[0;34m/\u001b[0m\u001b[0;34m\"2\"\u001b[0m\u001b[0;34m\u001b[0m\u001b[0;34m\u001b[0m\u001b[0m\n\u001b[0m",
      "\u001b[0;31mTypeError\u001b[0m: unsupported operand type(s) for /: 'str' and 'str'"
     ]
    }
   ],
   "source": [
    "s3/\"2\""
   ]
  },
  {
   "cell_type": "code",
   "execution_count": 98,
   "id": "c1252e38",
   "metadata": {},
   "outputs": [
    {
     "ename": "SyntaxError",
     "evalue": "invalid syntax (4129325206.py, line 1)",
     "output_type": "error",
     "traceback": [
      "\u001b[0;36m  File \u001b[0;32m\"/var/folders/zc/ywq4d_0x2fxcmqfh3607w9mw0000gn/T/ipykernel_7219/4129325206.py\"\u001b[0;36m, line \u001b[0;32m1\u001b[0m\n\u001b[0;31m    s.count(0:8)\u001b[0m\n\u001b[0m             ^\u001b[0m\n\u001b[0;31mSyntaxError\u001b[0m\u001b[0;31m:\u001b[0m invalid syntax\n"
     ]
    }
   ],
   "source": [
    "s.count(0:8)"
   ]
  },
  {
   "cell_type": "code",
   "execution_count": 99,
   "id": "2804453e",
   "metadata": {},
   "outputs": [
    {
     "ename": "TypeError",
     "evalue": "'builtin_function_or_method' object is not subscriptable",
     "output_type": "error",
     "traceback": [
      "\u001b[0;31m---------------------------------------------------------------------------\u001b[0m",
      "\u001b[0;31mTypeError\u001b[0m                                 Traceback (most recent call last)",
      "\u001b[0;32m/var/folders/zc/ywq4d_0x2fxcmqfh3607w9mw0000gn/T/ipykernel_7219/1923079560.py\u001b[0m in \u001b[0;36m<module>\u001b[0;34m\u001b[0m\n\u001b[0;32m----> 1\u001b[0;31m \u001b[0ms\u001b[0m\u001b[0;34m.\u001b[0m\u001b[0mcount\u001b[0m\u001b[0;34m[\u001b[0m\u001b[0;36m0\u001b[0m\u001b[0;34m:\u001b[0m\u001b[0;36m8\u001b[0m\u001b[0;34m]\u001b[0m\u001b[0;34m\u001b[0m\u001b[0;34m\u001b[0m\u001b[0m\n\u001b[0m",
      "\u001b[0;31mTypeError\u001b[0m: 'builtin_function_or_method' object is not subscriptable"
     ]
    }
   ],
   "source": [
    "s.count[0:8]"
   ]
  },
  {
   "cell_type": "code",
   "execution_count": 100,
   "id": "d73caf02",
   "metadata": {},
   "outputs": [
    {
     "data": {
      "text/plain": [
       "0"
      ]
     },
     "execution_count": 100,
     "metadata": {},
     "output_type": "execute_result"
    }
   ],
   "source": [
    "s3.count('s')"
   ]
  },
  {
   "cell_type": "code",
   "execution_count": 101,
   "id": "8541fc57",
   "metadata": {},
   "outputs": [
    {
     "data": {
      "text/plain": [
       "-1"
      ]
     },
     "execution_count": 101,
     "metadata": {},
     "output_type": "execute_result"
    }
   ],
   "source": [
    "s3.find(\"t\")"
   ]
  },
  {
   "cell_type": "code",
   "execution_count": 102,
   "id": "e5392c7b",
   "metadata": {},
   "outputs": [
    {
     "data": {
      "text/plain": [
       "['Mihi', 'Thakke', '']"
      ]
     },
     "execution_count": 102,
     "metadata": {},
     "output_type": "execute_result"
    }
   ],
   "source": [
    "s3.split('r')"
   ]
  },
  {
   "cell_type": "code",
   "execution_count": 103,
   "id": "21f42459",
   "metadata": {},
   "outputs": [],
   "source": [
    "sw=\"Wikipedia (/ˌwɪkɪˈpiːdiə/ (listen) wik-ih-PEE-dee-ə or /ˌwɪki-/ (listen) wik-ee-) is a multilingual free online encyclopedia written and maintained by a community of volunteers through open collaboration and a wiki-based editing system. Individual contributors, also called editors, are known as Wikipedians. Wikipedia is the largest and most-read reference work in history.[3] It is consistently one of the 15 most popular websites ranked by Alexa; as of 2022, Wikipedia was ranked the 10th most popular site.[3][4] It is hosted by the Wikimedia Foundation, an American non-profit organization funded mainly through donations.[5]\""
   ]
  },
  {
   "cell_type": "code",
   "execution_count": 104,
   "id": "c9a54469",
   "metadata": {},
   "outputs": [
    {
     "data": {
      "text/plain": [
       "'Wikipedia (/ˌwɪkɪˈpiːdiə/ (listen) wik-ih-PEE-dee-ə or /ˌwɪki-/ (listen) wik-ee-) is a multilingual free online encyclopedia written and maintained by a community of volunteers through open collaboration and a wiki-based editing system. Individual contributors, also called editors, are known as Wikipedians. Wikipedia is the largest and most-read reference work in history.[3] It is consistently one of the 15 most popular websites ranked by Alexa; as of 2022, Wikipedia was ranked the 10th most popular site.[3][4] It is hosted by the Wikimedia Foundation, an American non-profit organization funded mainly through donations.[5]'"
      ]
     },
     "execution_count": 104,
     "metadata": {},
     "output_type": "execute_result"
    }
   ],
   "source": [
    "sw"
   ]
  },
  {
   "cell_type": "code",
   "execution_count": 105,
   "id": "6552ee79",
   "metadata": {},
   "outputs": [],
   "source": [
    "sw=\"The Samsung Group[3] (or simply Samsung, stylized as SΛMSUNG) (Korean: 삼성 [samsʌŋ]) is a South Korean multinational manufacturing conglomerate headquartered in Samsung Town, Seoul, South Korea.[1] It comprises numerous affiliated businesses,[1] most of them united under the Samsung brand, and is the largest South Korean chaebol (business conglomerate). As of 2020, Samsung has the 8th highest global brand value.[4]\""
   ]
  },
  {
   "cell_type": "code",
   "execution_count": 107,
   "id": "1327c2da",
   "metadata": {},
   "outputs": [
    {
     "data": {
      "text/plain": [
       "'The Samsung Group[3] (or simply Samsung, stylized as SΛMSUNG) (Korean: 삼성 [samsʌŋ]) is a South Korean multinational manufacturing conglomerate headquartered in Samsung Town, Seoul, South Korea.[1] It comprises numerous affiliated businesses,[1] most of them united under the Samsung brand, and is the largest South Korean chaebol (business conglomerate). As of 2020, Samsung has the 8th highest global brand value.[4]'"
      ]
     },
     "execution_count": 107,
     "metadata": {},
     "output_type": "execute_result"
    }
   ],
   "source": [
    "sw"
   ]
  },
  {
   "cell_type": "code",
   "execution_count": 108,
   "id": "b79cf24a",
   "metadata": {},
   "outputs": [
    {
     "data": {
      "text/plain": [
       "['The',\n",
       " 'Samsung',\n",
       " 'Group[3]',\n",
       " '(or',\n",
       " 'simply',\n",
       " 'Samsung,',\n",
       " 'stylized',\n",
       " 'as',\n",
       " 'SΛMSUNG)',\n",
       " '(Korean:',\n",
       " '삼성',\n",
       " '[samsʌŋ])',\n",
       " 'is',\n",
       " 'a',\n",
       " 'South',\n",
       " 'Korean',\n",
       " 'multinational',\n",
       " 'manufacturing',\n",
       " 'conglomerate',\n",
       " 'headquartered',\n",
       " 'in',\n",
       " 'Samsung',\n",
       " 'Town,',\n",
       " 'Seoul,',\n",
       " 'South',\n",
       " 'Korea.[1]',\n",
       " 'It',\n",
       " 'comprises',\n",
       " 'numerous',\n",
       " 'affiliated',\n",
       " 'businesses,[1]',\n",
       " 'most',\n",
       " 'of',\n",
       " 'them',\n",
       " 'united',\n",
       " 'under',\n",
       " 'the',\n",
       " 'Samsung',\n",
       " 'brand,',\n",
       " 'and',\n",
       " 'is',\n",
       " 'the',\n",
       " 'largest',\n",
       " 'South',\n",
       " 'Korean',\n",
       " 'chaebol',\n",
       " '(business',\n",
       " 'conglomerate).',\n",
       " 'As',\n",
       " 'of',\n",
       " '2020,',\n",
       " 'Samsung',\n",
       " 'has',\n",
       " 'the',\n",
       " '8th',\n",
       " 'highest',\n",
       " 'global',\n",
       " 'brand',\n",
       " 'value.[4]']"
      ]
     },
     "execution_count": 108,
     "metadata": {},
     "output_type": "execute_result"
    }
   ],
   "source": [
    "sw.split(\" \")"
   ]
  },
  {
   "cell_type": "code",
   "execution_count": 110,
   "id": "f28eda4f",
   "metadata": {},
   "outputs": [
    {
     "data": {
      "text/plain": [
       "5"
      ]
     },
     "execution_count": 110,
     "metadata": {},
     "output_type": "execute_result"
    }
   ],
   "source": [
    "sw.count(\"Samsung\")"
   ]
  },
  {
   "cell_type": "code",
   "execution_count": 111,
   "id": "b638d9ca",
   "metadata": {},
   "outputs": [
    {
     "data": {
      "text/plain": [
       "4"
      ]
     },
     "execution_count": 111,
     "metadata": {},
     "output_type": "execute_result"
    }
   ],
   "source": [
    "sw.count(\"Korea\")"
   ]
  },
  {
   "cell_type": "code",
   "execution_count": 112,
   "id": "4cd493dd",
   "metadata": {},
   "outputs": [
    {
     "data": {
      "text/plain": [
       "str"
      ]
     },
     "execution_count": 112,
     "metadata": {},
     "output_type": "execute_result"
    }
   ],
   "source": [
    "type(sw)"
   ]
  },
  {
   "cell_type": "code",
   "execution_count": 113,
   "id": "613d1cd6",
   "metadata": {},
   "outputs": [
    {
     "ename": "TypeError",
     "evalue": "str.upper() takes no arguments (1 given)",
     "output_type": "error",
     "traceback": [
      "\u001b[0;31m---------------------------------------------------------------------------\u001b[0m",
      "\u001b[0;31mTypeError\u001b[0m                                 Traceback (most recent call last)",
      "\u001b[0;32m/var/folders/zc/ywq4d_0x2fxcmqfh3607w9mw0000gn/T/ipykernel_7219/2034272944.py\u001b[0m in \u001b[0;36m<module>\u001b[0;34m\u001b[0m\n\u001b[0;32m----> 1\u001b[0;31m \u001b[0msw\u001b[0m\u001b[0;34m.\u001b[0m\u001b[0mupper\u001b[0m\u001b[0;34m(\u001b[0m\u001b[0msw\u001b[0m\u001b[0;34m)\u001b[0m\u001b[0;34m\u001b[0m\u001b[0;34m\u001b[0m\u001b[0m\n\u001b[0m",
      "\u001b[0;31mTypeError\u001b[0m: str.upper() takes no arguments (1 given)"
     ]
    }
   ],
   "source": [
    "sw.upper(sw)"
   ]
  },
  {
   "cell_type": "code",
   "execution_count": 117,
   "id": "e215df1d",
   "metadata": {},
   "outputs": [
    {
     "data": {
      "text/plain": [
       "'THE SAMSUNG GROUP[3] (OR SIMPLY SAMSUNG, STYLIZED AS SΛMSUNG) (KOREAN: 삼성 [SAMSɅŊ]) IS A SOUTH KOREAN MULTINATIONAL MANUFACTURING CONGLOMERATE HEADQUARTERED IN SAMSUNG TOWN, SEOUL, SOUTH KOREA.[1] IT COMPRISES NUMEROUS AFFILIATED BUSINESSES,[1] MOST OF THEM UNITED UNDER THE SAMSUNG BRAND, AND IS THE LARGEST SOUTH KOREAN CHAEBOL (BUSINESS CONGLOMERATE). AS OF 2020, SAMSUNG HAS THE 8TH HIGHEST GLOBAL BRAND VALUE.[4]'"
      ]
     },
     "execution_count": 117,
     "metadata": {},
     "output_type": "execute_result"
    }
   ],
   "source": [
    "sw.upper()"
   ]
  },
  {
   "cell_type": "code",
   "execution_count": 118,
   "id": "93cc787d",
   "metadata": {},
   "outputs": [
    {
     "data": {
      "text/plain": [
       "'the samsung group[3] (or simply samsung, stylized as sλmsung) (korean: 삼성 [samsʌŋ]) is a south korean multinational manufacturing conglomerate headquartered in samsung town, seoul, south korea.[1] it comprises numerous affiliated businesses,[1] most of them united under the samsung brand, and is the largest south korean chaebol (business conglomerate). as of 2020, samsung has the 8th highest global brand value.[4]'"
      ]
     },
     "execution_count": 118,
     "metadata": {},
     "output_type": "execute_result"
    }
   ],
   "source": [
    "sw.lower()"
   ]
  },
  {
   "cell_type": "code",
   "execution_count": 123,
   "id": "91243ba5",
   "metadata": {},
   "outputs": [
    {
     "data": {
      "text/plain": [
       "'The samsung group[3] (or simply samsung, stylized as sλmsung) (korean: 삼성 [samsʌŋ]) is a south korean multinational manufacturing conglomerate headquartered in samsung town, seoul, south korea.[1] it comprises numerous affiliated businesses,[1] most of them united under the samsung brand, and is the largest south korean chaebol (business conglomerate). as of 2020, samsung has the 8th highest global brand value.[4]'"
      ]
     },
     "execution_count": 123,
     "metadata": {},
     "output_type": "execute_result"
    }
   ],
   "source": [
    "sw.capitalize()"
   ]
  },
  {
   "cell_type": "code",
   "execution_count": 129,
   "id": "78c712cf",
   "metadata": {},
   "outputs": [],
   "source": [
    "sw=\"\"\"\"The Samsung Group[3] (or simply Samsung, stylized as SΛMSUNG) (Korean: 삼성 [samsʌŋ]) is a South Korean multinational manufacturing conglomerate headquartered in Samsung Town, Seoul, South Korea.[1] It comprises numerous affiliated businesses,[1] most of them united under the Samsung brand, and is the largest South Korean chaebol (business conglomerate). As of 2020, Samsung has the 8th highest global brand value.[4]\n",
    "\n",
    "Samsung was founded by Lee Byung-chul in 1938 as a trading company. Over the next three decades, the group diversified into areas including food processing, textiles, insurance, securities, and retail. Samsung entered the electronics industry in the late 1960s and the construction and shipbuilding industries in the mid-1970s; these areas would drive its subsequent growth. Following Lee's death in 1987, Samsung was separated into five business groups – Samsung Group, Shinsegae Group, CJ Group and Hansol Group, and Joongang Group.\n",
    "\n",
    "Notable Samsung industrial affiliates include Samsung Electronics (the world's largest information technology company, consumer electronics maker and chipmaker measured by 2017 revenues),[5][6] Samsung Heavy Industries (the world's 2nd largest shipbuilder measured by 2010 revenues),[7] and Samsung Engineering and Samsung C&T Corporation (respectively the world's 13th and 36th largest construction companies).[8] Other notable subsidiaries include Samsung Life Insurance (the world's 14th largest life insurance company),[9] Samsung Everland (operator of Everland Resort, the oldest theme park in South Korea)[10] and Cheil Worldwide (the world's 15th largest advertising agency, as measured by 2012 revenues).[11][12]\"\"\""
   ]
  },
  {
   "cell_type": "code",
   "execution_count": 127,
   "id": "8e83b696",
   "metadata": {},
   "outputs": [
    {
     "data": {
      "text/plain": [
       "'\"The Samsung Group[3] (or simply Samsung, stylized as SΛMSUNG) (Korean: 삼성 [samsʌŋ]) is a South Korean multinational manufacturing conglomerate headquartered in Samsung Town, Seoul, South Korea.[1] It comprises numerous affiliated businesses,[1] most of them united under the Samsung brand, and is the largest South Korean chaebol (business conglomerate). As of 2020, Samsung has the 8th highest global brand value.[4]\\n\\nSamsung was founded by Lee Byung-chul in 1938 as a trading company. Over the next three decades, the group diversified into areas including food processing, textiles, insurance, securities, and retail. Samsung entered the electronics industry in the late 1960s and the construction and shipbuilding industries in the mid-1970s; these areas would drive its subsequent growth. Following Lee\\'s death in 1987, Samsung was separated into five business groups – Samsung Group, Shinsegae Group, CJ Group and Hansol Group, and Joongang Group.\\n\\nNotable Samsung industrial affiliates include Samsung Electronics (the world\\'s largest information technology company, consumer electronics maker and chipmaker measured by 2017 revenues),[5][6] Samsung Heavy Industries (the world\\'s 2nd largest shipbuilder measured by 2010 revenues),[7] and Samsung Engineering and Samsung C&T Corporation (respectively the world\\'s 13th and 36th largest construction companies).[8] Other notable subsidiaries include Samsung Life Insurance (the world\\'s 14th largest life insurance company),[9] Samsung Everland (operator of Everland Resort, the oldest theme park in South Korea)[10] and Cheil Worldwide (the world\\'s 15th largest advertising agency, as measured by 2012 revenues).[11][12]'"
      ]
     },
     "execution_count": 127,
     "metadata": {},
     "output_type": "execute_result"
    }
   ],
   "source": [
    "sw"
   ]
  },
  {
   "cell_type": "code",
   "execution_count": 128,
   "id": "c5198c33",
   "metadata": {},
   "outputs": [
    {
     "data": {
      "text/plain": [
       "'\"the samsung group[3] (or simply samsung, stylized as sλmsung) (korean: 삼성 [samsʌŋ]) is a south korean multinational manufacturing conglomerate headquartered in samsung town, seoul, south korea.[1] it comprises numerous affiliated businesses,[1] most of them united under the samsung brand, and is the largest south korean chaebol (business conglomerate). as of 2020, samsung has the 8th highest global brand value.[4]\\n\\nsamsung was founded by lee byung-chul in 1938 as a trading company. over the next three decades, the group diversified into areas including food processing, textiles, insurance, securities, and retail. samsung entered the electronics industry in the late 1960s and the construction and shipbuilding industries in the mid-1970s; these areas would drive its subsequent growth. following lee\\'s death in 1987, samsung was separated into five business groups – samsung group, shinsegae group, cj group and hansol group, and joongang group.\\n\\nnotable samsung industrial affiliates include samsung electronics (the world\\'s largest information technology company, consumer electronics maker and chipmaker measured by 2017 revenues),[5][6] samsung heavy industries (the world\\'s 2nd largest shipbuilder measured by 2010 revenues),[7] and samsung engineering and samsung c&t corporation (respectively the world\\'s 13th and 36th largest construction companies).[8] other notable subsidiaries include samsung life insurance (the world\\'s 14th largest life insurance company),[9] samsung everland (operator of everland resort, the oldest theme park in south korea)[10] and cheil worldwide (the world\\'s 15th largest advertising agency, as measured by 2012 revenues).[11][12]'"
      ]
     },
     "execution_count": 128,
     "metadata": {},
     "output_type": "execute_result"
    }
   ],
   "source": [
    "sw.capitalize()"
   ]
  },
  {
   "cell_type": "code",
   "execution_count": 130,
   "id": "7db62c33",
   "metadata": {},
   "outputs": [
    {
     "data": {
      "text/plain": [
       "'\"The Samsung Group[3] (Or Simply Samsung, Stylized As Sλmsung) (Korean: 삼성 [Samsʌŋ]) Is A South Korean Multinational Manufacturing Conglomerate Headquartered In Samsung Town, Seoul, South Korea.[1] It Comprises Numerous Affiliated Businesses,[1] Most Of Them United Under The Samsung Brand, And Is The Largest South Korean Chaebol (Business Conglomerate). As Of 2020, Samsung Has The 8Th Highest Global Brand Value.[4]\\n\\nSamsung Was Founded By Lee Byung-Chul In 1938 As A Trading Company. Over The Next Three Decades, The Group Diversified Into Areas Including Food Processing, Textiles, Insurance, Securities, And Retail. Samsung Entered The Electronics Industry In The Late 1960S And The Construction And Shipbuilding Industries In The Mid-1970S; These Areas Would Drive Its Subsequent Growth. Following Lee\\'S Death In 1987, Samsung Was Separated Into Five Business Groups – Samsung Group, Shinsegae Group, Cj Group And Hansol Group, And Joongang Group.\\n\\nNotable Samsung Industrial Affiliates Include Samsung Electronics (The World\\'S Largest Information Technology Company, Consumer Electronics Maker And Chipmaker Measured By 2017 Revenues),[5][6] Samsung Heavy Industries (The World\\'S 2Nd Largest Shipbuilder Measured By 2010 Revenues),[7] And Samsung Engineering And Samsung C&T Corporation (Respectively The World\\'S 13Th And 36Th Largest Construction Companies).[8] Other Notable Subsidiaries Include Samsung Life Insurance (The World\\'S 14Th Largest Life Insurance Company),[9] Samsung Everland (Operator Of Everland Resort, The Oldest Theme Park In South Korea)[10] And Cheil Worldwide (The World\\'S 15Th Largest Advertising Agency, As Measured By 2012 Revenues).[11][12]'"
      ]
     },
     "execution_count": 130,
     "metadata": {},
     "output_type": "execute_result"
    }
   ],
   "source": [
    "sw.title()"
   ]
  },
  {
   "cell_type": "code",
   "execution_count": 133,
   "id": "e933e4a3",
   "metadata": {},
   "outputs": [
    {
     "data": {
      "text/plain": [
       "'Mihir thakker'"
      ]
     },
     "execution_count": 133,
     "metadata": {},
     "output_type": "execute_result"
    }
   ],
   "source": [
    "s3.capitalize()"
   ]
  },
  {
   "cell_type": "code",
   "execution_count": 136,
   "id": "22cc6430",
   "metadata": {},
   "outputs": [
    {
     "data": {
      "text/plain": [
       "'Mihir Thakker'"
      ]
     },
     "execution_count": 136,
     "metadata": {},
     "output_type": "execute_result"
    }
   ],
   "source": [
    "s3.title()"
   ]
  },
  {
   "cell_type": "code",
   "execution_count": 144,
   "id": "3b5c466e",
   "metadata": {},
   "outputs": [],
   "source": [
    "s3=\"Mihir Thakker\""
   ]
  },
  {
   "cell_type": "code",
   "execution_count": 138,
   "id": "c667d515",
   "metadata": {},
   "outputs": [
    {
     "data": {
      "text/plain": [
       "'mIHIR tHAkkER'"
      ]
     },
     "execution_count": 138,
     "metadata": {},
     "output_type": "execute_result"
    }
   ],
   "source": [
    "s3.swapcase()"
   ]
  },
  {
   "cell_type": "code",
   "execution_count": 139,
   "id": "10010764",
   "metadata": {},
   "outputs": [
    {
     "data": {
      "text/plain": [
       "'Mihir Thakker'"
      ]
     },
     "execution_count": 139,
     "metadata": {},
     "output_type": "execute_result"
    }
   ],
   "source": [
    "s3.title()"
   ]
  },
  {
   "cell_type": "code",
   "execution_count": 142,
   "id": "1c0e21bf",
   "metadata": {},
   "outputs": [
    {
     "data": {
      "text/plain": [
       "<reversed at 0x7f85221ef430>"
      ]
     },
     "execution_count": 142,
     "metadata": {},
     "output_type": "execute_result"
    }
   ],
   "source": [
    "reversed(s3)"
   ]
  },
  {
   "cell_type": "code",
   "execution_count": 145,
   "id": "ef65f4d6",
   "metadata": {},
   "outputs": [
    {
     "data": {
      "text/plain": [
       "'Mihir Thakker'"
      ]
     },
     "execution_count": 145,
     "metadata": {},
     "output_type": "execute_result"
    }
   ],
   "source": [
    "s3"
   ]
  },
  {
   "cell_type": "code",
   "execution_count": 146,
   "id": "45718c3b",
   "metadata": {},
   "outputs": [
    {
     "data": {
      "text/plain": [
       "'rekkahT rihiM'"
      ]
     },
     "execution_count": 146,
     "metadata": {},
     "output_type": "execute_result"
    }
   ],
   "source": [
    "''.join(reversed(s3))"
   ]
  },
  {
   "cell_type": "code",
   "execution_count": 150,
   "id": "341e388b",
   "metadata": {},
   "outputs": [
    {
     "data": {
      "text/plain": [
       "'rekkahT rihiM'"
      ]
     },
     "execution_count": 150,
     "metadata": {},
     "output_type": "execute_result"
    }
   ],
   "source": [
    "s3[::-1]"
   ]
  },
  {
   "cell_type": "code",
   "execution_count": 166,
   "id": "24f283d9",
   "metadata": {},
   "outputs": [],
   "source": [
    "s=\"MIHIRTHAKKER\""
   ]
  },
  {
   "cell_type": "code",
   "execution_count": 155,
   "id": "3afbbd84",
   "metadata": {},
   "outputs": [
    {
     "data": {
      "text/plain": [
       "'Mihir Thakker'"
      ]
     },
     "execution_count": 155,
     "metadata": {},
     "output_type": "execute_result"
    }
   ],
   "source": [
    "s.strip()"
   ]
  },
  {
   "cell_type": "code",
   "execution_count": 156,
   "id": "1b4e1a0f",
   "metadata": {},
   "outputs": [
    {
     "data": {
      "text/plain": [
       "'Mihir Thakker      '"
      ]
     },
     "execution_count": 156,
     "metadata": {},
     "output_type": "execute_result"
    }
   ],
   "source": [
    "s.lstrip()"
   ]
  },
  {
   "cell_type": "code",
   "execution_count": 157,
   "id": "1aa706af",
   "metadata": {},
   "outputs": [
    {
     "data": {
      "text/plain": [
       "'       Mihir Thakker'"
      ]
     },
     "execution_count": 157,
     "metadata": {},
     "output_type": "execute_result"
    }
   ],
   "source": [
    "s.rstrip()"
   ]
  },
  {
   "cell_type": "code",
   "execution_count": 160,
   "id": "35217746",
   "metadata": {},
   "outputs": [
    {
     "data": {
      "text/plain": [
       "'MaiahaiaraTahaaakakaear'"
      ]
     },
     "execution_count": 160,
     "metadata": {},
     "output_type": "execute_result"
    }
   ],
   "source": [
    "\"a\".join(s)"
   ]
  },
  {
   "cell_type": "code",
   "execution_count": 163,
   "id": "a9b7d033",
   "metadata": {},
   "outputs": [
    {
     "data": {
      "text/plain": [
       "'    MihirThakker    '"
      ]
     },
     "execution_count": 163,
     "metadata": {},
     "output_type": "execute_result"
    }
   ],
   "source": [
    "s.center(20,\" \")"
   ]
  },
  {
   "cell_type": "code",
   "execution_count": 168,
   "id": "478f8741",
   "metadata": {},
   "outputs": [
    {
     "data": {
      "text/plain": [
       "True"
      ]
     },
     "execution_count": 168,
     "metadata": {},
     "output_type": "execute_result"
    }
   ],
   "source": [
    "s.isupper()"
   ]
  },
  {
   "cell_type": "code",
   "execution_count": 167,
   "id": "fbc1796a",
   "metadata": {},
   "outputs": [
    {
     "data": {
      "text/plain": [
       "'MIHIRTHAKKER'"
      ]
     },
     "execution_count": 167,
     "metadata": {},
     "output_type": "execute_result"
    }
   ],
   "source": [
    "s.upper()"
   ]
  },
  {
   "cell_type": "code",
   "execution_count": 169,
   "id": "9c4b358b",
   "metadata": {},
   "outputs": [
    {
     "data": {
      "text/plain": [
       "True"
      ]
     },
     "execution_count": 169,
     "metadata": {},
     "output_type": "execute_result"
    }
   ],
   "source": [
    "s.isprintable()"
   ]
  },
  {
   "cell_type": "code",
   "execution_count": 171,
   "id": "78cebedd",
   "metadata": {},
   "outputs": [
    {
     "data": {
      "text/plain": [
       "False"
      ]
     },
     "execution_count": 171,
     "metadata": {},
     "output_type": "execute_result"
    }
   ],
   "source": [
    "s.istitle()"
   ]
  },
  {
   "cell_type": "code",
   "execution_count": 173,
   "id": "c0554264",
   "metadata": {},
   "outputs": [
    {
     "data": {
      "text/plain": [
       "False"
      ]
     },
     "execution_count": 173,
     "metadata": {},
     "output_type": "execute_result"
    }
   ],
   "source": [
    "s3.isspace()"
   ]
  },
  {
   "cell_type": "code",
   "execution_count": 174,
   "id": "d481c58e",
   "metadata": {},
   "outputs": [],
   "source": [
    "s4=\"   \""
   ]
  },
  {
   "cell_type": "code",
   "execution_count": 175,
   "id": "0b1fc62e",
   "metadata": {},
   "outputs": [
    {
     "data": {
      "text/plain": [
       "True"
      ]
     },
     "execution_count": 175,
     "metadata": {},
     "output_type": "execute_result"
    }
   ],
   "source": [
    "s4.isspace()"
   ]
  },
  {
   "cell_type": "code",
   "execution_count": 176,
   "id": "1c5d3a31",
   "metadata": {},
   "outputs": [
    {
     "data": {
      "text/plain": [
       "False"
      ]
     },
     "execution_count": 176,
     "metadata": {},
     "output_type": "execute_result"
    }
   ],
   "source": [
    "s.isdigit()"
   ]
  },
  {
   "cell_type": "code",
   "execution_count": 177,
   "id": "77f05ff7",
   "metadata": {},
   "outputs": [],
   "source": [
    "s5=\"34\""
   ]
  },
  {
   "cell_type": "code",
   "execution_count": 180,
   "id": "9007a1fe",
   "metadata": {},
   "outputs": [
    {
     "data": {
      "text/plain": [
       "False"
      ]
     },
     "execution_count": 180,
     "metadata": {},
     "output_type": "execute_result"
    }
   ],
   "source": [
    "s6.isdigit()"
   ]
  },
  {
   "cell_type": "code",
   "execution_count": 179,
   "id": "78d2bd23",
   "metadata": {},
   "outputs": [],
   "source": [
    "s6=\"34fg\""
   ]
  },
  {
   "cell_type": "code",
   "execution_count": 181,
   "id": "845fe043",
   "metadata": {},
   "outputs": [
    {
     "data": {
      "text/plain": [
       "True"
      ]
     },
     "execution_count": 181,
     "metadata": {},
     "output_type": "execute_result"
    }
   ],
   "source": [
    "s6.isalnum()"
   ]
  },
  {
   "cell_type": "code",
   "execution_count": null,
   "id": "1495a968",
   "metadata": {},
   "outputs": [],
   "source": []
  },
  {
   "cell_type": "code",
   "execution_count": 182,
   "id": "79c9aff4",
   "metadata": {},
   "outputs": [
    {
     "data": {
      "text/plain": [
       "False"
      ]
     },
     "execution_count": 182,
     "metadata": {},
     "output_type": "execute_result"
    }
   ],
   "source": [
    "s6.isalpha()"
   ]
  },
  {
   "cell_type": "code",
   "execution_count": 183,
   "id": "631b05f2",
   "metadata": {},
   "outputs": [],
   "source": [
    "s=\"MihirThakker\""
   ]
  },
  {
   "cell_type": "code",
   "execution_count": 185,
   "id": "cd9f982e",
   "metadata": {},
   "outputs": [
    {
     "data": {
      "text/plain": [
       "True"
      ]
     },
     "execution_count": 185,
     "metadata": {},
     "output_type": "execute_result"
    }
   ],
   "source": [
    "s.startswith(\"M\")"
   ]
  },
  {
   "cell_type": "code",
   "execution_count": 186,
   "id": "13581f14",
   "metadata": {},
   "outputs": [
    {
     "data": {
      "text/plain": [
       "True"
      ]
     },
     "execution_count": 186,
     "metadata": {},
     "output_type": "execute_result"
    }
   ],
   "source": [
    "s.endswith(\"r\")"
   ]
  },
  {
   "cell_type": "code",
   "execution_count": 187,
   "id": "73b43eb7",
   "metadata": {},
   "outputs": [
    {
     "data": {
      "text/plain": [
       "'MihirThakker'"
      ]
     },
     "execution_count": 187,
     "metadata": {},
     "output_type": "execute_result"
    }
   ],
   "source": [
    "s"
   ]
  },
  {
   "cell_type": "code",
   "execution_count": 193,
   "id": "ea086fa8",
   "metadata": {},
   "outputs": [],
   "source": [
    "s=\"mihi\\rtha\\kker\""
   ]
  },
  {
   "cell_type": "code",
   "execution_count": 195,
   "id": "7cd88f31",
   "metadata": {},
   "outputs": [
    {
     "data": {
      "text/plain": [
       "'mihi\\rtha\\\\kker'"
      ]
     },
     "execution_count": 195,
     "metadata": {},
     "output_type": "execute_result"
    }
   ],
   "source": [
    "s.expandtabs()"
   ]
  },
  {
   "cell_type": "code",
   "execution_count": 196,
   "id": "434d34ff",
   "metadata": {},
   "outputs": [
    {
     "ename": "SyntaxError",
     "evalue": "invalid syntax (10859571.py, line 1)",
     "output_type": "error",
     "traceback": [
      "\u001b[0;36m  File \u001b[0;32m\"/var/folders/zc/ywq4d_0x2fxcmqfh3607w9mw0000gn/T/ipykernel_7219/10859571.py\"\u001b[0;36m, line \u001b[0;32m1\u001b[0m\n\u001b[0;31m    mihir thakker\u001b[0m\n\u001b[0m          ^\u001b[0m\n\u001b[0;31mSyntaxError\u001b[0m\u001b[0;31m:\u001b[0m invalid syntax\n"
     ]
    }
   ],
   "source": [
    "mihir thakker"
   ]
  },
  {
   "cell_type": "code",
   "execution_count": null,
   "id": "0c6d7480",
   "metadata": {},
   "outputs": [],
   "source": []
  },
  {
   "cell_type": "code",
   "execution_count": null,
   "id": "1653ec30",
   "metadata": {},
   "outputs": [],
   "source": []
  },
  {
   "cell_type": "code",
   "execution_count": null,
   "id": "0523d4de",
   "metadata": {},
   "outputs": [],
   "source": []
  },
  {
   "cell_type": "code",
   "execution_count": null,
   "id": "cc4da387",
   "metadata": {},
   "outputs": [],
   "source": []
  },
  {
   "cell_type": "code",
   "execution_count": null,
   "id": "87f4b148",
   "metadata": {},
   "outputs": [],
   "source": []
  },
  {
   "cell_type": "code",
   "execution_count": null,
   "id": "4e7e2ef3",
   "metadata": {},
   "outputs": [],
   "source": []
  },
  {
   "cell_type": "code",
   "execution_count": null,
   "id": "1f0221d6",
   "metadata": {},
   "outputs": [],
   "source": []
  },
  {
   "cell_type": "code",
   "execution_count": null,
   "id": "298cb630",
   "metadata": {},
   "outputs": [],
   "source": []
  },
  {
   "cell_type": "code",
   "execution_count": null,
   "id": "dd9206d5",
   "metadata": {},
   "outputs": [],
   "source": []
  },
  {
   "cell_type": "code",
   "execution_count": null,
   "id": "c59d4787",
   "metadata": {},
   "outputs": [],
   "source": []
  }
 ],
 "metadata": {
  "kernelspec": {
   "display_name": "Python 3 (ipykernel)",
   "language": "python",
   "name": "python3"
  },
  "language_info": {
   "codemirror_mode": {
    "name": "ipython",
    "version": 3
   },
   "file_extension": ".py",
   "mimetype": "text/x-python",
   "name": "python",
   "nbconvert_exporter": "python",
   "pygments_lexer": "ipython3",
   "version": "3.9.7"
  }
 },
 "nbformat": 4,
 "nbformat_minor": 5
}
